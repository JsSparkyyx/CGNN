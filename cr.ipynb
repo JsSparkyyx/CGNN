{
 "cells": [
  {
   "cell_type": "code",
   "execution_count": 1,
   "metadata": {},
   "outputs": [
    {
     "name": "stderr",
     "output_type": "stream",
     "text": [
      "d:\\Software\\anaconda3\\envs\\gnn\\lib\\site-packages\\tqdm\\auto.py:22: TqdmWarning: IProgress not found. Please update jupyter and ipywidgets. See https://ipywidgets.readthedocs.io/en/stable/user_install.html\n",
      "  from .autonotebook import tqdm as notebook_tqdm\n"
     ]
    }
   ],
   "source": [
    "import torch\n",
    "import pickle\n",
    "import dgl\n",
    "import torch.nn.functional as F\n",
    "import numpy as np"
   ]
  },
  {
   "cell_type": "code",
   "execution_count": 2,
   "metadata": {},
   "outputs": [],
   "source": [
    "task = 0\n",
    "seed = 1\n",
    "dataset = 'cora'"
   ]
  },
  {
   "cell_type": "code",
   "execution_count": 3,
   "metadata": {},
   "outputs": [],
   "source": [
    "feat_syn = torch.load('cgnn/feat_reddit_0.01_{}_{}.pt'.format(seed,task))\n",
    "label_syn = torch.load('cgnn/labels_reddit_0.01_{}_{}.pt'.format(seed,task))\n",
    "adj_syn = torch.load('cgnn/adj_reddit_0.01_{}_{}.pt'.format(seed,task))\n",
    "# with open('cgnn/data_reddit_0.01_{}_{}.pkl'.format(seed,task),'rb') as f:\n",
    "#     data = pickle.load(f)\n",
    "# with open('cgnn/taskcla_reddit_0.01_{}_{}.pkl'.format(seed,task),'rb') as f:\n",
    "#     taskcla = pickle.load(f)"
   ]
  },
  {
   "cell_type": "code",
   "execution_count": 4,
   "metadata": {},
   "outputs": [],
   "source": [
    "# idx_train, idx_val, idx_test = data.idx_train, data.idx_val, data.idx_test\n",
    "# adj, features, labels = data.adj, data.features, data.labels"
   ]
  },
  {
   "cell_type": "code",
   "execution_count": 5,
   "metadata": {},
   "outputs": [
    {
     "data": {
      "text/plain": [
       "tensor([0, 1, 2, 3, 4, 5, 6, 7], device='cuda:0')"
      ]
     },
     "execution_count": 5,
     "metadata": {},
     "output_type": "execute_result"
    }
   ],
   "source": [
    "label_syn.unique()"
   ]
  },
  {
   "cell_type": "code",
   "execution_count": 6,
   "metadata": {},
   "outputs": [],
   "source": [
    "device = 'cuda:0'\n",
    "adj_syn[adj_syn < 0.05] = 0\n",
    "g_selfloop = adj_syn + torch.eye(adj_syn.shape[0]).to(device)\n",
    "edge_index = g_selfloop.nonzero().T\n",
    "g_syn = dgl.graph((edge_index[0],edge_index[1])).to(device)\n",
    "edge_weight = g_selfloop[edge_index[0],edge_index[1]]\n",
    "feat_syn = feat_syn.to(device)\n",
    "label_syn = label_syn.to(device)"
   ]
  },
  {
   "cell_type": "code",
   "execution_count": 7,
   "metadata": {},
   "outputs": [],
   "source": [
    "ce = torch.nn.CrossEntropyLoss()"
   ]
  },
  {
   "cell_type": "code",
   "execution_count": 8,
   "metadata": {},
   "outputs": [],
   "source": [
    "from models.GAT import NET\n",
    "model = NET(feat_syn.shape[1], 32, heads = 8, num_layers = 2, n_class = 8).to(device)\n",
    "# from models.GCN import NET\n",
    "# model = NET(feat_syn.shape[1], 256, n_layers = 2, n_class = taskcla[1]).to(device)\n",
    "optimizer_model = torch.optim.Adam(model.parameters(), lr=0.001, weight_decay=5e-4)"
   ]
  },
  {
   "cell_type": "code",
   "execution_count": 9,
   "metadata": {},
   "outputs": [
    {
     "name": "stdout",
     "output_type": "stream",
     "text": [
      "0.0142188249155879024\r"
     ]
    },
    {
     "ename": "",
     "evalue": "",
     "output_type": "error",
     "traceback": [
      "\u001b[1;31mThe Kernel crashed while executing code in the the current cell or a previous cell. Please review the code in the cell(s) to identify a possible cause of the failure. Click <a href='https://aka.ms/vscodeJupyterKernelCrash'>here</a> for more info. View Jupyter <a href='command:jupyter.viewOutput'>log</a> for further details."
     ]
    }
   ],
   "source": [
    "model.train()\n",
    "for _ in range(6000):\n",
    "    optimizer_model.zero_grad()\n",
    "    # logits = model(g_syn, feat_syn)\n",
    "    logits = model(g_syn, feat_syn, edge_weight = edge_weight)\n",
    "    # logits = F.log_softmax(logits,dim=1)\n",
    "    # loss = F.nll_loss(logits, label_syn)\n",
    "    loss = ce(logits, label_syn)\n",
    "    loss.backward()\n",
    "    optimizer_model.step()\n",
    "    print(loss.item(),end='\\r')"
   ]
  },
  {
   "cell_type": "code",
   "execution_count": 69,
   "metadata": {},
   "outputs": [
    {
     "ename": "AttributeError",
     "evalue": "'list' object has no attribute 'idx_train'",
     "output_type": "error",
     "traceback": [
      "\u001b[1;31m---------------------------------------------------------------------------\u001b[0m",
      "\u001b[1;31mAttributeError\u001b[0m                            Traceback (most recent call last)",
      "\u001b[1;32md:\\Code\\CGNN\\cr.ipynb Cell 10'\u001b[0m in \u001b[0;36m<cell line: 1>\u001b[1;34m()\u001b[0m\n\u001b[1;32m----> <a href='vscode-notebook-cell:/d%3A/Code/CGNN/cr.ipynb#ch0000009?line=0'>1</a>\u001b[0m idx_train, idx_val, idx_test \u001b[39m=\u001b[39m data\u001b[39m.\u001b[39;49midx_train, data\u001b[39m.\u001b[39midx_val, data\u001b[39m.\u001b[39midx_test\n\u001b[0;32m      <a href='vscode-notebook-cell:/d%3A/Code/CGNN/cr.ipynb#ch0000009?line=1'>2</a>\u001b[0m adj, features, labels \u001b[39m=\u001b[39m data\u001b[39m.\u001b[39madj, data\u001b[39m.\u001b[39mfeatures, data\u001b[39m.\u001b[39mlabels\n\u001b[0;32m      <a href='vscode-notebook-cell:/d%3A/Code/CGNN/cr.ipynb#ch0000009?line=2'>3</a>\u001b[0m \u001b[39m# adj_test = adj[np.ix_(idx_test, idx_test)]\u001b[39;00m\n",
      "\u001b[1;31mAttributeError\u001b[0m: 'list' object has no attribute 'idx_train'"
     ]
    }
   ],
   "source": [
    "idx_train, idx_val, idx_test = data.idx_train, data.idx_val, data.idx_test\n",
    "adj, features, labels = data.adj, data.features, data.labels\n",
    "# adj_test = adj[np.ix_(idx_test, idx_test)]\n",
    "adj_test = adj\n",
    "g = dgl.from_scipy(adj_test).to(device)\n",
    "g = dgl.add_self_loop(g)\n",
    "features = torch.Tensor(features).to(device)\n",
    "labels = torch.LongTensor(labels).to(device)\n",
    "idx_train = torch.LongTensor(idx_train).to(device)\n",
    "idx_val = torch.LongTensor(idx_val).to(device)\n",
    "idx_test = torch.LongTensor(idx_test).to(device)"
   ]
  },
  {
   "cell_type": "code",
   "execution_count": 11,
   "metadata": {},
   "outputs": [],
   "source": [
    "with torch.no_grad():\n",
    "    logits = model(g, features)\n",
    "    prob, prediction = torch.max(logits[idx_test], dim=1)\n",
    "    prediction = prediction.cpu().numpy()\n",
    "    truth = labels[idx_test].cpu().numpy()"
   ]
  },
  {
   "cell_type": "code",
   "execution_count": 12,
   "metadata": {},
   "outputs": [
    {
     "name": "stdout",
     "output_type": "stream",
     "text": [
      "0.907668086682719\n"
     ]
    }
   ],
   "source": [
    "from sklearn.metrics import accuracy_score\n",
    "acc = accuracy_score(truth, prediction)\n",
    "print(acc)"
   ]
  },
  {
   "cell_type": "code",
   "execution_count": 70,
   "metadata": {},
   "outputs": [],
   "source": [
    "import random\n",
    "import numpy as np\n",
    "random.seed(seed)\n",
    "np.random.seed(seed)\n",
    "torch.manual_seed(seed)\n",
    "torch.cuda.manual_seed(seed)\n",
    "\n",
    "from data.load_data import *\n",
    "data, taskcla, in_feat = load_dataset('reddit', device)"
   ]
  },
  {
   "cell_type": "code",
   "execution_count": 71,
   "metadata": {},
   "outputs": [],
   "source": [
    "g, features, _, labels, train_mask, val_mask, test_mask = data[task].retrieve_data()"
   ]
  },
  {
   "cell_type": "code",
   "execution_count": 72,
   "metadata": {},
   "outputs": [],
   "source": [
    "with torch.no_grad():\n",
    "    logits = model(g, features)\n",
    "    prob, prediction = torch.max(logits[test_mask], dim=1)\n",
    "    # prediction = prediction[idx_test].cpu().numpy()\n",
    "    # truth = labels[idx_test].cpu().numpy()\n",
    "    prediction = prediction.cpu().numpy()\n",
    "    truth = labels[test_mask].cpu().numpy()"
   ]
  },
  {
   "cell_type": "code",
   "execution_count": 73,
   "metadata": {},
   "outputs": [
    {
     "name": "stdout",
     "output_type": "stream",
     "text": [
      "0.8511017704750987\n"
     ]
    },
    {
     "ename": "",
     "evalue": "",
     "output_type": "error",
     "traceback": [
      "\u001b[1;31mThe Kernel crashed while executing code in the the current cell or a previous cell. Please review the code in the cell(s) to identify a possible cause of the failure. Click <a href='https://aka.ms/vscodeJupyterKernelCrash'>here</a> for more info. View Jupyter <a href='command:jupyter.viewOutput'>log</a> for further details."
     ]
    }
   ],
   "source": [
    "from sklearn.metrics import accuracy_score\n",
    "acc = accuracy_score(truth, prediction)\n",
    "print(acc)"
   ]
  },
  {
   "cell_type": "code",
   "execution_count": null,
   "metadata": {},
   "outputs": [],
   "source": []
  },
  {
   "cell_type": "code",
   "execution_count": null,
   "metadata": {},
   "outputs": [],
   "source": []
  }
 ],
 "metadata": {
  "kernelspec": {
   "display_name": "Python 3.8.13 ('gnn')",
   "language": "python",
   "name": "python3"
  },
  "language_info": {
   "codemirror_mode": {
    "name": "ipython",
    "version": 3
   },
   "file_extension": ".py",
   "mimetype": "text/x-python",
   "name": "python",
   "nbconvert_exporter": "python",
   "pygments_lexer": "ipython3",
   "version": "3.8.13"
  },
  "orig_nbformat": 4,
  "vscode": {
   "interpreter": {
    "hash": "3cf011e08e1e2f21f53a4b58f03ac068f46c2d020985a1e7333bfa11bea048b9"
   }
  }
 },
 "nbformat": 4,
 "nbformat_minor": 2
}
