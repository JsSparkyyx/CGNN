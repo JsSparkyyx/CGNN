{
 "cells": [
  {
   "cell_type": "code",
   "execution_count": 1,
   "metadata": {},
   "outputs": [],
   "source": [
    "import numpy as np\n",
    "import pandas as pd"
   ]
  },
  {
   "cell_type": "code",
   "execution_count": 8,
   "metadata": {},
   "outputs": [],
   "source": [
    "datasets = ['cora','reddit']\n",
    "methods = ['EWC','MAS','GEM']\n",
    "archs = ['GAT','GCN','SAGE']"
   ]
  },
  {
   "cell_type": "code",
   "execution_count": 22,
   "metadata": {},
   "outputs": [
    {
     "name": "stdout",
     "output_type": "stream",
     "text": [
      "GAT EWC cora\n",
      "79.08$\\pm 0.37$ & 3.74$\\pm 1.48$ & 81.28$\\pm 0.56$ & \n",
      "GAT EWC reddit\n",
      "88.45$\\pm 5.49$ & 7.67$\\pm 5.15$ & 87.97$\\pm 6.28$ & \n",
      "GAT MAS cora\n",
      "77.69$\\pm 0.39$ & 5.72$\\pm 2.25$ & 79.49$\\pm 0.27$ & \n",
      "GAT MAS reddit\n",
      "80.48$\\pm 9.33$ & 14.83$\\pm 8.73$ & 79.82$\\pm 9.85$ & \n",
      "GAT GEM cora\n",
      "73.14$\\pm 1.54$ & 11.03$\\pm 3.53$ & 82.97$\\pm 0.60$ & \n",
      "GAT GEM reddit\n",
      "97.04$\\pm 0.92$ & 1.36$\\pm 0.53$ & 97.21$\\pm 0.27$ & \n",
      "GCN EWC cora\n",
      "81.44$\\pm 0.57$ & 1.97$\\pm 0.83$ & 83.60$\\pm 0.66$ & \n",
      "GCN EWC reddit\n",
      "97.41$\\pm 0.23$ & 0.97$\\pm 0.53$ & 97.65$\\pm 0.18$ & \n",
      "GCN MAS cora\n",
      "78.90$\\pm 0.55$ & 4.27$\\pm 1.39$ & 80.90$\\pm 0.54$ & \n",
      "GCN MAS reddit\n",
      "95.63$\\pm 0.64$ & 2.54$\\pm 0.84$ & 95.70$\\pm 0.62$ & \n",
      "GCN GEM cora\n",
      "73.74$\\pm 1.53$ & 12.40$\\pm 3.17$ & 85.32$\\pm 0.70$ & \n",
      "GCN GEM reddit\n",
      "97.48$\\pm 0.19$ & 1.17$\\pm 0.45$ & 98.07$\\pm 0.13$ & \n",
      "SAGE EWC cora\n",
      "81.01$\\pm 0.89$ & 2.23$\\pm 0.83$ & 84.79$\\pm 0.98$ & \n",
      "SAGE EWC reddit\n",
      "97.57$\\pm 0.22$ & 0.79$\\pm 0.31$ & 98.13$\\pm 0.14$ & \n",
      "SAGE MAS cora\n",
      "79.56$\\pm 0.67$ & 5.85$\\pm 2.01$ & 81.70$\\pm 0.66$ & \n",
      "SAGE MAS reddit\n",
      "94.91$\\pm 1.41$ & 3.10$\\pm 1.56$ & 94.97$\\pm 1.35$ & \n",
      "SAGE GEM cora\n",
      "74.06$\\pm 2.53$ & 11.88$\\pm 4.81$ & 85.11$\\pm 0.61$ & \n",
      "SAGE GEM reddit\n",
      "94.14$\\pm 8.12$ & 5.88$\\pm 10.14$ & 98.37$\\pm 0.07$ & \n"
     ]
    }
   ],
   "source": [
    "for arch in archs:\n",
    "    for method in methods:\n",
    "        for dataset in datasets:\n",
    "            path = './results/{}/{}_{}_5_full_batch_overall.csv'.format(dataset,arch,method)\n",
    "            data = np.loadtxt(path,delimiter=',')\n",
    "            print(arch,method,dataset)\n",
    "            for i in range(3):\n",
    "                print('{:.2f}$\\pm {:.2f}$'.format(data[:,:-1].mean(axis=0)[i],data[:,:-1].std(axis=0)[i]),end=' & ')\n",
    "            print()"
   ]
  },
  {
   "cell_type": "code",
   "execution_count": null,
   "metadata": {},
   "outputs": [],
   "source": []
  }
 ],
 "metadata": {
  "interpreter": {
   "hash": "3cf011e08e1e2f21f53a4b58f03ac068f46c2d020985a1e7333bfa11bea048b9"
  },
  "kernelspec": {
   "display_name": "Python 3.8.13 ('gnn')",
   "language": "python",
   "name": "python3"
  },
  "language_info": {
   "codemirror_mode": {
    "name": "ipython",
    "version": 3
   },
   "file_extension": ".py",
   "mimetype": "text/x-python",
   "name": "python",
   "nbconvert_exporter": "python",
   "pygments_lexer": "ipython3",
   "version": "3.8.13"
  },
  "orig_nbformat": 4
 },
 "nbformat": 4,
 "nbformat_minor": 2
}
